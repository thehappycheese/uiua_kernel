{
 "cells": [
  {
   "cell_type": "code",
   "execution_count": 18,
   "metadata": {},
   "outputs": [
    {
     "name": "stdout",
     "output_type": "stream",
     "text": [
      "OK:\n",
      "b'[6 7 8 9 10]\\n'\n"
     ]
    }
   ],
   "source": [
    "import subprocess\n",
    "code = \"\"\"1_2_3\n",
    "/+\n",
    "⇡5\n",
    "+\"\"\"\n",
    "proc = subprocess.Popen(\n",
    "    [\"uiua.exe\", \"eval\", code.encode(\"utf-8\")],\n",
    "    stdin=subprocess.PIPE,\n",
    "    stdout=subprocess.PIPE,\n",
    "    stderr=subprocess.PIPE,\n",
    "    #text=True,\n",
    "    #encoding=\"utf-8\",\n",
    ")\n",
    "stdout, stderr = proc.communicate()\n",
    "if proc.returncode == 0:\n",
    "    print(f\"OK:\\n{stdout}\")\n",
    "else:\n",
    "    print(f\"FAIL:\\n{stderr}\")"
   ]
  }
 ],
 "metadata": {
  "kernelspec": {
   "display_name": "base",
   "language": "python",
   "name": "python3"
  },
  "language_info": {
   "codemirror_mode": {
    "name": "ipython",
    "version": 3
   },
   "file_extension": ".py",
   "mimetype": "text/x-python",
   "name": "python",
   "nbconvert_exporter": "python",
   "pygments_lexer": "ipython3",
   "version": "3.10.10"
  }
 },
 "nbformat": 4,
 "nbformat_minor": 2
}
