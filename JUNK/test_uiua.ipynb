{
 "cells": [
  {
   "cell_type": "code",
   "execution_count": 1,
   "metadata": {
    "vscode": {
     "languageId": "uiua"
    }
   },
   "outputs": [
    {
     "name": "stdout",
     "output_type": "stream",
     "text": [
      "We will try run\n",
      "```\n",
      "uiua.exe eval 1_2_3\n",
      "```"
     ]
    },
    {
     "ename": "",
     "evalue": "",
     "output_type": "error",
     "traceback": [
      "\u001b[1;31mThe Kernel crashed while executing code in the the current cell or a previous cell. Please review the code in the cell(s) to identify a possible cause of the failure. Click <a href='https://aka.ms/vscodeJupyterKernelCrash'>here</a> for more info. View Jupyter <a href='command:jupyter.viewOutput'>log</a> for further details."
     ]
    }
   ],
   "source": [
    "1_2_3"
   ]
  },
  {
   "cell_type": "code",
   "execution_count": 1,
   "metadata": {
    "vscode": {
     "languageId": "uiua"
    }
   },
   "outputs": [
    {
     "name": "stdout",
     "output_type": "stream",
     "text": [
      "We will try run\n",
      "```\n",
      "uiua.exe eval 1_2_3\n",
      "/+\n",
      "⇡5\n",
      "+\n",
      "```"
     ]
    }
   ],
   "source": [
    "1_2_3\n",
    "/+\n",
    "⇡5\n",
    "+"
   ]
  },
  {
   "cell_type": "code",
   "execution_count": 1,
   "metadata": {
    "vscode": {
     "languageId": "uiua"
    }
   },
   "outputs": [
    {
     "name": "stdout",
     "output_type": "stream",
     "text": [
      "We will try run\n",
      "```\n",
      "uiua.exe eval 1_2_3\n",
      "/+\n",
      "```"
     ]
    }
   ],
   "source": [
    "1_2_3\n",
    "/+"
   ]
  },
  {
   "cell_type": "code",
   "execution_count": null,
   "metadata": {
    "vscode": {
     "languageId": "uiua"
    }
   },
   "outputs": [],
   "source": []
  }
 ],
 "metadata": {
  "kernelspec": {
   "display_name": "UIUA",
   "language": "uiua",
   "name": "uiua_kernel"
  },
  "language_info": {
   "file_extension": ".py",
   "mimetype": "text/plain",
   "name": "UIUA"
  }
 },
 "nbformat": 4,
 "nbformat_minor": 2
}
