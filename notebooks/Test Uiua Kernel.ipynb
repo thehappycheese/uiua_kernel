{
 "cells": [
  {
   "cell_type": "code",
   "execution_count": 1,
   "metadata": {
    "vscode": {
     "languageId": "uiua"
    }
   },
   "outputs": [
    {
     "data": {
      "text/plain": [
       "3\n",
       "2\n",
       "1\n"
      ]
     },
     "execution_count": 1,
     "metadata": {},
     "output_type": "execute_result"
    }
   ],
   "source": [
    "1 2 3"
   ]
  },
  {
   "cell_type": "code",
   "execution_count": 2,
   "metadata": {
    "vscode": {
     "languageId": "uiua"
    }
   },
   "outputs": [
    {
     "data": {
      "text/plain": [
       "11\n"
      ]
     },
     "execution_count": 1,
     "metadata": {},
     "output_type": "execute_result"
    }
   ],
   "source": [
    "1_2_3\n",
    "/+\n",
    "5\n",
    "+"
   ]
  },
  {
   "cell_type": "code",
   "execution_count": 3,
   "metadata": {
    "vscode": {
     "languageId": "uiua"
    }
   },
   "outputs": [
    {
     "data": {
      "text/plain": [
       "╭─                     \n",
       "╷ 0 0 0 1 1 1 1 0 0 0  \n",
       "  0 1 1 0 0 0 0 1 1 0  \n",
       "  0 1 0 0 0 0 0 0 1 0  \n",
       "  1 0 0 1 1 1 1 0 0 1  \n",
       "  1 0 0 1 0 0 1 0 0 1  \n",
       "  1 0 0 1 0 0 1 0 0 1  \n",
       "  1 0 0 1 1 1 1 0 0 1  \n",
       "  0 1 0 0 0 0 0 0 1 0  \n",
       "  0 1 1 0 0 0 0 1 1 0  \n",
       "  0 0 0 1 1 1 1 0 0 0  \n",
       "                      ╯\n"
      ]
     },
     "execution_count": 1,
     "metadata": {},
     "output_type": "execute_result"
    }
   ],
   "source": [
    "ComplexGrid ← ℂ⍉.÷:-,×2⊙(-1)◿,↯↯2,⇡×..\n",
    "↥fork(=2|=5)⁅*5⌵ComplexGrid 10"
   ]
  },
  {
   "cell_type": "code",
   "execution_count": null,
   "metadata": {
    "vscode": {
     "languageId": "uiua"
    }
   },
   "outputs": [],
   "source": []
  }
 ],
 "metadata": {
  "kernelspec": {
   "display_name": "UIUA",
   "language": "uiua",
   "name": "uiua_kernel"
  },
  "language_info": {
   "file_extension": ".ua",
   "mimetype": "text/plain",
   "name": "UIUA"
  }
 },
 "nbformat": 4,
 "nbformat_minor": 2
}
